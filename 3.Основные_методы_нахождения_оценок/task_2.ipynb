{
 "cells": [
  {
   "cell_type": "code",
   "execution_count": 139,
   "metadata": {
    "collapsed": true
   },
   "outputs": [],
   "source": [
    "import numpy as np\n",
    "import scipy.stats as st\n",
    "import matplotlib.pyplot as plt\n",
    "%matplotlib inline\n",
    "\n",
    "data = []\n",
    "\n",
    "file = open('Cauchy.csv', 'r')\n",
    "for str in file:\n",
    "    for c in str.split():\n",
    "        data.append(float(c))\n",
    "file.close()"
   ]
  },
  {
   "cell_type": "markdown",
   "metadata": {},
   "source": [
    "Из условия задачи, плотность распределения Коши задается формулой:\n",
    "$$ p(x) = \\frac{1}{\\pi(1+(x - x_0)^2)} $$ \n",
    "\n",
    "Функция правдоподобия по выборке размера N имеет вид: \n",
    "$$ f = \\frac{1}{\\pi(1+(x_1 - x_0)^2)} \\cdot \\frac{1}{\\pi(1+(x_2 - x_0)^2)} \\cdot ... \\cdot \\frac{1}{\\pi(1+(x_N - x_0)^2)} =  \\frac{1}{\\pi^N \\prod_{i=1}^N (1+(x_i - x_0)^2)} $$\n",
    "\n",
    "Логарифмируем и дифференцируем её, получаем следующее: <br>\n",
    "$ L(x, x_0) = -N\\log(\\pi) - \\log\\prod_{i=1}^N (1+(x_i - x_0)^2) $ <br>\n",
    "\n",
    "$ \\frac{\\partial L}{\\partial x_0} = \\sum_{i=1}^{N}\\frac{2(x-x_0)}{(1+(x-x_0)^2)}  = 0 $ <br>\n",
    "  \n",
    "Решать последнее уравнение сложно, поэтому действуем как предложено в задании: ищем по сетке значение $x$, в котором достигается максимум функции правдоподобия."
   ]
  },
  {
   "cell_type": "code",
   "execution_count": 140,
   "metadata": {
    "collapsed": true
   },
   "outputs": [],
   "source": [
    "x = np.arange(-1000, 1000, 0.1)"
   ]
  },
  {
   "cell_type": "code",
   "execution_count": 141,
   "metadata": {
    "collapsed": true
   },
   "outputs": [],
   "source": [
    "# n - количество элементов из выборки\n",
    "# метод возвращает логарифмическую функцию правдоподобия\n",
    "def estimate(n):\n",
    "    L = np.zeros(len(x))\n",
    "    for k in range(len(x)):\n",
    "        for i in data[0:n]:\n",
    "            L[k] -= np.log((np.pi * (1 + (i - x[k]) ** 2)))\n",
    "    return L"
   ]
  },
  {
   "cell_type": "markdown",
   "metadata": {},
   "source": [
    "Оценим параметр сдвига по половине выборки"
   ]
  },
  {
   "cell_type": "code",
   "execution_count": null,
   "metadata": {
    "collapsed": false
   },
   "outputs": [],
   "source": [
    "L = estimate(500)"
   ]
  },
  {
   "cell_type": "code",
   "execution_count": null,
   "metadata": {
    "collapsed": false
   },
   "outputs": [],
   "source": [
    "plt.plot(x, L)\n",
    "plt.show()"
   ]
  },
  {
   "cell_type": "code",
   "execution_count": null,
   "metadata": {
    "collapsed": false
   },
   "outputs": [],
   "source": [
    "plt.plot(x, L)\n",
    "plt.ylim([-1600, -1250])\n",
    "plt.xlim([405, 415])\n",
    "plt.show()\n",
    "\n",
    "arg_max = x[np.where(L == max(L))]\n",
    "print(\"Значение максимума функции достигается в точке \", arg_max)"
   ]
  },
  {
   "cell_type": "markdown",
   "metadata": {},
   "source": [
    "Оценим параметр сдвига по полной выборке"
   ]
  },
  {
   "cell_type": "code",
   "execution_count": null,
   "metadata": {
    "collapsed": true
   },
   "outputs": [],
   "source": [
    "L = estimate(1000)"
   ]
  },
  {
   "cell_type": "code",
   "execution_count": null,
   "metadata": {
    "collapsed": false
   },
   "outputs": [],
   "source": [
    "plt.plot(x, L)\n",
    "plt.show()"
   ]
  },
  {
   "cell_type": "code",
   "execution_count": null,
   "metadata": {
    "collapsed": false
   },
   "outputs": [],
   "source": [
    "plt.plot(x, L)\n",
    "plt.ylim([-2600, -2570])\n",
    "plt.xlim([407, 413])\n",
    "plt.show()\n",
    "\n",
    "arg_max = x[np.where(L == max(L))]\n",
    "print(\"Значение максимума функции достигается в точке \", arg_max)"
   ]
  },
  {
   "cell_type": "markdown",
   "metadata": {},
   "source": [
    "# Вывод:"
   ]
  },
  {
   "cell_type": "markdown",
   "metadata": {},
   "source": [
    "Значение параметра сдвига получилось равным 410 при рассмотрении как половины, так и всей выборки."
   ]
  }
 ],
 "metadata": {
  "kernelspec": {
   "display_name": "Python 3",
   "language": "python",
   "name": "python3"
  },
  "language_info": {
   "codemirror_mode": {
    "name": "ipython",
    "version": 3
   },
   "file_extension": ".py",
   "mimetype": "text/x-python",
   "name": "python",
   "nbconvert_exporter": "python",
   "pygments_lexer": "ipython3",
   "version": "3.6.3"
  }
 },
 "nbformat": 4,
 "nbformat_minor": 2
}

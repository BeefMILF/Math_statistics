{
 "cells": [
  {
   "cell_type": "code",
   "execution_count": null,
   "metadata": {
    "collapsed": true
   },
   "outputs": [],
   "source": [
    "import numpy as np\n",
    "import scipy.stats as sps\n",
    "import matplotlib.pyplot as plt\n",
    "import pylab\n",
    "%matplotlib inline"
   ]
  },
  {
   "cell_type": "markdown",
   "metadata": {},
   "source": [
    "Оценка максимального правдоподобия для параметра $\\theta$ распределения $ 𝑁(0, \\theta) $ :  <br>\n",
    "\n",
    "$ \\theta_1 = S_n^2 = \\frac{1}{n}\\sum_{i = 1}^n(X_i - \\overline{X})^2 $ <br>\n",
    "\n",
    "В качестве априорного распределения возьмем сопряженное распределение — Inverse-gamma Distribution $\\Gamma_{inv}(\\alpha_0, \\beta_0)$, mean $ = \\frac{\\beta_0}{\\alpha_0 - 1}$; ${\\alpha=\\alpha_0 + \\frac{n}{2}, \\beta=\\beta_0 + \\frac{\\sum_{i=1}^n X_i^2}{2}}$.\n",
    "\n",
    " Следовательно, байесовская оценка: ${\\theta^*=\\frac{\\beta}{\\alpha - 1} = \\frac{2\\beta_0 + \\sum_{i=1}^n X_i^2}{2\\alpha_0 + n - 2}}$.\"\n"
   ]
  },
  {
   "cell_type": "code",
   "execution_count": null,
   "metadata": {
    "collapsed": false
   },
   "outputs": [],
   "source": [
    "# генерация выборки\n",
    "N = 100\n",
    "sample = sps.norm.rvs(size = N, loc = 0, scale = 1)\n",
    "\n",
    "# Выборочные дисперсии\n",
    "dispersions = np.zeros(N)\n",
    "for i in range(N):\n",
    "    dispersions[i] = pylab.var(sample[:(i+1)])\n",
    "\n",
    "# Байесовская оценка для theta\n",
    "def BayesEstimation(sample, alpha, beta):\n",
    "    return ((2. * beta) + sum([i**2 for i in sample]))/((2. * alpha) + len(sample) - 2.)"
   ]
  },
  {
   "cell_type": "code",
   "execution_count": null,
   "metadata": {
    "collapsed": false
   },
   "outputs": [],
   "source": [
    "def estimate(params, ylim, ok):\n",
    "    # Строим графики байесовских оценок для четырех параметров\n",
    "    plt.figure(figsize = (16, 8))\n",
    "    for par, col in zip(params, pylab.arange(len(params))):\n",
    "        estimations = np.array([BayesEstimation(sample[:(i+1)], par[0], par[1]) for i in range(N)])\n",
    "        plt.plot(np.arange(1, N+1), abs(estimations-1), \n",
    "                 label='BE, $(\\\\alpha, \\\\beta)=$({}, {})'.format(par[0], par[1]))\n",
    "\n",
    "    if ok:\n",
    "        # Строим график для ОМП\n",
    "        plt.plot(np.arange(1,N+1), abs(dispersions-1), label='MLE')\n",
    "        \n",
    "    plt.ylim((0, ylim))\n",
    "    plt.legend()\n",
    "    plt.xlabel('Sample size', fontsize=18)\n",
    "    plt.ylabel(\"$|\\\\theta - \\\\theta^*|$\", fontsize=18)\n",
    "    plt.grid()\n",
    "    plt.show()"
   ]
  },
  {
   "cell_type": "code",
   "execution_count": null,
   "metadata": {
    "collapsed": true
   },
   "outputs": [],
   "source": [
    "# массивы параметров априорного распределения\n",
    "params_1 = np.array([(1,1), (1,10), (1,50), (1,100), (1,200)])\n",
    "params_2 = np.array([(1,1), (10,1), (50,1), (100,1), (200,1)])"
   ]
  },
  {
   "cell_type": "markdown",
   "metadata": {},
   "source": [
    "Построим графики при переменном параметре масштаба априорного распределения"
   ]
  },
  {
   "cell_type": "code",
   "execution_count": null,
   "metadata": {
    "collapsed": false
   },
   "outputs": [],
   "source": [
    "estimate(params_1, ylim=5, ok=False)"
   ]
  },
  {
   "cell_type": "markdown",
   "metadata": {},
   "source": [
    "Построим графики при переменном параметре сдвига априорного распределения"
   ]
  },
  {
   "cell_type": "code",
   "execution_count": null,
   "metadata": {
    "collapsed": false
   },
   "outputs": [],
   "source": [
    "estimate(params_2, ylim=2, ok=False)"
   ]
  },
  {
   "cell_type": "markdown",
   "metadata": {},
   "source": [
    "Видно, что при увеличении параметров оценка ухудшается. Построим теперь на одном графике кривые оценки ОМП \n",
    "и байесовских оценок для разных параметров априорного распределения."
   ]
  },
  {
   "cell_type": "code",
   "execution_count": null,
   "metadata": {
    "collapsed": false
   },
   "outputs": [],
   "source": [
    "params_3 = np.array([(1,1), (1,10), (10,1), (1000,1), (50,50), (1, 100)])\n",
    "estimate(params_3, ylim=2.5, ok=True)"
   ]
  },
  {
   "cell_type": "markdown",
   "metadata": {},
   "source": [
    "По этому графику видно, что при большом значении параметра масштаба и маленьком параметре сдвига оценка получается плохой. То же самое можно сказать и про оценку с большим параметром сдвига и маленьким параметром масштаба. <br>\n",
    "Можно было подумать, что при выборе небольших значениях параметра оценка наилучшая, но это опровергает оценка при значениях (50, 50)."
   ]
  },
  {
   "cell_type": "code",
   "execution_count": null,
   "metadata": {
    "collapsed": false
   },
   "outputs": [],
   "source": [
    "params_4 = np.array([(1,1), (10,10), (100,100), (500,500), (1000,1000)])\n",
    "estimate(params_4, ylim=0.3, ok=True)"
   ]
  },
  {
   "cell_type": "markdown",
   "metadata": {},
   "source": [
    "# Вывод : "
   ]
  },
  {
   "cell_type": "markdown",
   "metadata": {},
   "source": [
    "1) При значениях параметров (1,1) и (10, 10) байесовская оценка похожа на ОМП и \n",
    "хорошо приближает значение параметра $\\theta$. <br>\n",
    "2) При большой разности параметров байесовская оценка очень плоха. <br>\n",
    "3) Наилучших оценок байесовским методом можно добиться, используя большие и равные между собой значения параметров априорного распределения."
   ]
  }
 ],
 "metadata": {
  "kernelspec": {
   "display_name": "Python 3",
   "language": "python",
   "name": "python3"
  },
  "language_info": {
   "codemirror_mode": {
    "name": "ipython",
    "version": 3
   },
   "file_extension": ".py",
   "mimetype": "text/x-python",
   "name": "python",
   "nbconvert_exporter": "python",
   "pygments_lexer": "ipython3",
   "version": "3.6.3"
  }
 },
 "nbformat": 4,
 "nbformat_minor": 2
}

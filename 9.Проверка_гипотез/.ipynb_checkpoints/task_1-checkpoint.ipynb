{
 "cells": [
  {
   "cell_type": "code",
   "execution_count": 1,
   "metadata": {
    "collapsed": false
   },
   "outputs": [
    {
     "data": {
      "text/plain": [
       "100"
      ]
     },
     "execution_count": 1,
     "metadata": {},
     "output_type": "execute_result"
    }
   ],
   "source": [
    "import numpy as np\n",
    "import scipy.stats as sps\n",
    "\n",
    "data = np.load('9_1.npy')\n",
    "n = data.size\n",
    "n"
   ]
  },
  {
   "cell_type": "markdown",
   "metadata": {},
   "source": [
    "Воспользуемся построенным в теоретической задаче 9.2 равномерно наиболее мощным критерием проверки гипотезы $H_0: \\theta = \\theta_0$ против альтернатив $\\theta > \\theta_0$  и  $\\theta < \\theta_0$. <br>\n",
    "\n",
    "а) $H_1: \\theta > \\theta_0$ <br>\n",
    "Критерий: $S_1 = $ { $\\sum X_i \\leqslant Z_\\alpha$ } <br>\n",
    "\n",
    "б) $H_2: \\theta < \\theta_0$ <br>\n",
    "Критерий: $S_2 = $ { $\\sum X_i \\geqslant Z_{1-\\alpha}$ }, <br><br>\n",
    "где $Z_\\alpha \\space и \\space Z_{1-\\alpha}$ - квантили гамма распределения\n",
    "<br><br>\n",
    "\n",
    "Для каждого $\\theta_i, \\space i=1,2,3$ воспользуемся критерием и найдём такое $\\alpha$, начиная с которого 2 из гипотез $H_i: \\theta = \\theta_i$ будут отвергаться, а третья - нет. Тогда значение $\\theta_i$, не отвергнутое критериями, и будет истинным значением параметра $\\theta$."
   ]
  },
  {
   "cell_type": "code",
   "execution_count": 2,
   "metadata": {
    "collapsed": false
   },
   "outputs": [
    {
     "data": {
      "text/plain": [
       "97.307961386590719"
      ]
     },
     "execution_count": 2,
     "metadata": {},
     "output_type": "execute_result"
    }
   ],
   "source": [
    "Statistik = sum(data)\n",
    "Statistik"
   ]
  },
  {
   "cell_type": "code",
   "execution_count": 3,
   "metadata": {
    "collapsed": false
   },
   "outputs": [],
   "source": [
    "theta_1 = 0.9\n",
    "theta_2 = 1\n",
    "theta_3 = 1.1"
   ]
  },
  {
   "cell_type": "code",
   "execution_count": 4,
   "metadata": {
    "collapsed": false
   },
   "outputs": [],
   "source": [
    "def est(theta):\n",
    "    for alpha in np.arange(0.3, 0.5, 0.01):\n",
    "        ok = False\n",
    "        quantile_alpha = sps.gamma.ppf(alpha, n, theta)\n",
    "        quantile_one_minus_alpha = sps.gamma.ppf(1 - alpha, n, theta)\n",
    "\n",
    "        if (Statistik > quantile_alpha) and (Statistik < quantile_one_minus_alpha):\n",
    "            ok = True\n",
    "\n",
    "        print(alpha, ok)"
   ]
  },
  {
   "cell_type": "code",
   "execution_count": 5,
   "metadata": {
    "collapsed": false
   },
   "outputs": [
    {
     "name": "stdout",
     "output_type": "stream",
     "text": [
      "0.3 True\n",
      "0.31 True\n",
      "0.32 True\n",
      "0.33 True\n",
      "0.34 True\n",
      "0.35 True\n",
      "0.36 True\n",
      "0.37 True\n",
      "0.38 False\n",
      "0.39 False\n",
      "0.4 False\n",
      "0.41 False\n",
      "0.42 False\n",
      "0.43 False\n",
      "0.44 False\n",
      "0.45 False\n",
      "0.46 False\n",
      "0.47 False\n",
      "0.48 False\n",
      "0.49 False\n"
     ]
    }
   ],
   "source": [
    "est(theta_1)"
   ]
  },
  {
   "cell_type": "code",
   "execution_count": 6,
   "metadata": {
    "collapsed": false
   },
   "outputs": [
    {
     "name": "stdout",
     "output_type": "stream",
     "text": [
      "0.3 True\n",
      "0.31 True\n",
      "0.32 True\n",
      "0.33 True\n",
      "0.34 True\n",
      "0.35 True\n",
      "0.36 True\n",
      "0.37 False\n",
      "0.38 False\n",
      "0.39 False\n",
      "0.4 False\n",
      "0.41 False\n",
      "0.42 False\n",
      "0.43 False\n",
      "0.44 False\n",
      "0.45 False\n",
      "0.46 False\n",
      "0.47 False\n",
      "0.48 False\n",
      "0.49 False\n"
     ]
    }
   ],
   "source": [
    "est(theta_2)"
   ]
  },
  {
   "cell_type": "code",
   "execution_count": 7,
   "metadata": {
    "collapsed": false
   },
   "outputs": [
    {
     "name": "stdout",
     "output_type": "stream",
     "text": [
      "0.3 True\n",
      "0.31 True\n",
      "0.32 True\n",
      "0.33 True\n",
      "0.34 True\n",
      "0.35 True\n",
      "0.36 True\n",
      "0.37 False\n",
      "0.38 False\n",
      "0.39 False\n",
      "0.4 False\n",
      "0.41 False\n",
      "0.42 False\n",
      "0.43 False\n",
      "0.44 False\n",
      "0.45 False\n",
      "0.46 False\n",
      "0.47 False\n",
      "0.48 False\n",
      "0.49 False\n"
     ]
    }
   ],
   "source": [
    "est(theta_3)"
   ]
  },
  {
   "cell_type": "markdown",
   "metadata": {},
   "source": [
    "# Вывод:"
   ]
  },
  {
   "cell_type": "markdown",
   "metadata": {},
   "source": [
    "Видно, что при $\\alpha$, равном 0.37, $\\theta_1 = 0.9$ не отвергается, в отличие от других. <br>\n",
    "Значит, истинное значение параметра $\\theta$ равно 0.9."
   ]
  }
 ],
 "metadata": {
  "kernelspec": {
   "display_name": "Python 3",
   "language": "python",
   "name": "python3"
  },
  "language_info": {
   "codemirror_mode": {
    "name": "ipython",
    "version": 3
   },
   "file_extension": ".py",
   "mimetype": "text/x-python",
   "name": "python",
   "nbconvert_exporter": "python",
   "pygments_lexer": "ipython3",
   "version": "3.6.3"
  }
 },
 "nbformat": 4,
 "nbformat_minor": 2
}

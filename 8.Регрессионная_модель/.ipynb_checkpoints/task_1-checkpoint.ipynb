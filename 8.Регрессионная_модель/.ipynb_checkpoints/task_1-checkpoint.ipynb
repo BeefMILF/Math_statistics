{
 "cells": [
  {
   "cell_type": "code",
   "execution_count": 124,
   "metadata": {
    "collapsed": false
   },
   "outputs": [],
   "source": [
    "import numpy as np\n",
    "import math as math\n",
    "import random\n",
    "import csv\n",
    "import matplotlib.pyplot as plt\n",
    "%matplotlib inline"
   ]
  },
  {
   "cell_type": "markdown",
   "metadata": {},
   "source": [
    "Считаем данные о пожарах и приведём их к удобному для нас формату."
   ]
  },
  {
   "cell_type": "code",
   "execution_count": 125,
   "metadata": {
    "collapsed": false
   },
   "outputs": [],
   "source": [
    "def get_shuffled_data():\n",
    "    with open('forestfires.csv', 'r') as file:\n",
    "        main_data = list(csv.reader(file))\n",
    "    area = []\n",
    "    data = main_data[1:]\n",
    "    N = len(data)\n",
    "    for i in range(N):\n",
    "        data[i].pop(3) # отбрасываем день\n",
    "        data[i].append(1.0) # координата, тождественно равная единице\n",
    "\n",
    "    random.shuffle(data)    \n",
    "\n",
    "    for i in range(N):\n",
    "        data[i][2] = 1.0 if data[i][2] in ['jun', 'jul', 'aug'] else 0.0\n",
    "        data[i] = [float(number) for number in data[i]]\n",
    "        area.append(data[i][-2])\n",
    "        del (data[i][-2])\n",
    "       \n",
    "    return data, area\n",
    "\n",
    "data, area = get_shuffled_data()\n",
    "N = len(data)"
   ]
  },
  {
   "cell_type": "markdown",
   "metadata": {},
   "source": [
    "# Регрессионная модель. <br>\n",
    "\n",
    "Имеется $N$ векторов $X_1,\\dots,X_N$.\n",
    "\n",
    "Рассмотрим вектор $X_i = (X_i^{1}, X_i^{2},\\dots,X_i^{K}), \\ \\ \\text{где} \\ \\ K = 13$ — данные, дающие информацию о конкретном пожаре. Будем считать, что $\\forall i\\in\\{1,\\dots,N\\}$ мы измерили только координату $X_i^{K}$ (площадь пожара - area), а остальные данные $X_i^{1}, X_i^{2},\\dots,X_i^{K-1}$ нам известны. Тогда area можно представить как линейную комбинацию остальных данных: \n",
    "\n",
    "$$\\forall i\\in\\{1,\\dots,N\\} \\ \\ X_i^{K} = \\theta_1X_i^{1} + \\theta_2X_i^{2}+\\dots+\\theta_{K-1}X_i^{K-1}.$$\n",
    "Оценим параметры $\\theta = (\\theta_1,\\dots,\\theta_{K-1})^T$. \n",
    "\n",
    "$$\\theta=(Z^TZ)^{-1}Z^T\\hat X,$$\n",
    "\n",
    "где $\\hat X$ - данные о площадях пожаров, $Z$ - остальные данные.\n",
    "\n",
    "Оценка для area (известны первые $K - 1 = 12$ координат каждого вектора) равна: $ \\hat{A} = Z\\theta. $ "
   ]
  },
  {
   "cell_type": "markdown",
   "metadata": {},
   "source": [
    "Разделим данные в отношении 7:3 и построим регрессионную модель по первой части выборки."
   ]
  },
  {
   "cell_type": "code",
   "execution_count": 126,
   "metadata": {
    "collapsed": false
   },
   "outputs": [],
   "source": [
    "data_1 = data[:N*7//10]\n",
    "data_2 = data[N*7//10+1:]\n",
    "area_1 = area[:N*7//10]\n",
    "area_2 = area[N*7//10+1:]"
   ]
  },
  {
   "cell_type": "code",
   "execution_count": 127,
   "metadata": {
    "collapsed": false
   },
   "outputs": [],
   "source": [
    "def estimate(z, x):    \n",
    "    Z = np.array(z)\n",
    "    X = np.array(x)\n",
    "    Z_T = Z.T\n",
    "    theta = np.linalg.inv(Z_T @ Z) @ Z_T @ X.T\n",
    "    return theta"
   ]
  },
  {
   "cell_type": "code",
   "execution_count": 128,
   "metadata": {
    "collapsed": false
   },
   "outputs": [],
   "source": [
    "def error(z, x, theta):\n",
    "    Z = np.array(z)\n",
    "    X = np.array(x)\n",
    "    \n",
    "    alpha = (np.array(X.T - Z @ theta))**2\n",
    "    return math.sqrt(alpha.sum()/(len(x) - 12))"
   ]
  },
  {
   "cell_type": "markdown",
   "metadata": {},
   "source": [
    "Посчитаем среднеквадратичную ошибку $\\hat{\\sigma} = \\frac{||X-Z\\hat{\\theta}||^2}{n-k}$ по второй части выборки."
   ]
  },
  {
   "cell_type": "code",
   "execution_count": 129,
   "metadata": {
    "collapsed": false
   },
   "outputs": [
    {
     "name": "stdout",
     "output_type": "stream",
     "text": [
      "Среднеквадратичная ошибка:  30.760855696442537\n"
     ]
    }
   ],
   "source": [
    "theta_1 = estimate(data_1, area_1)\n",
    "err_1 = error(data_2, area_2, theta_1)\n",
    "print(\"Среднеквадратичная ошибка: \", err_1)"
   ]
  },
  {
   "cell_type": "markdown",
   "metadata": {},
   "source": [
    "Сделаем для area преобразование $f(x) = ln(x + c)$ и построим для нее новую регрессионную модель. Посчитаем среднеквадратичную ошибку для преобразованных значений. Найдем $c$, при котором среднеквадратичное отклонение минимально."
   ]
  },
  {
   "cell_type": "code",
   "execution_count": 130,
   "metadata": {
    "collapsed": true
   },
   "outputs": [],
   "source": [
    "def estimate_2(z, x, c):    \n",
    "    Z = np.array(z)\n",
    "    X = np.array(x)\n",
    "    X = np.log(X + c)\n",
    "    Z_T = Z.T\n",
    "    \n",
    "    theta = np.linalg.inv(Z_T @ Z) @ Z_T @ X.T\n",
    "    return theta\n",
    "\n",
    "def error_2(z, x, theta):\n",
    "    Z = np.array(z)\n",
    "    X = np.array(x)\n",
    "    \n",
    "    alpha = (np.array(X.T - np.exp(Z @ theta) + c))**2\n",
    "    return math.sqrt(alpha.sum()/(len(x) - 12))"
   ]
  },
  {
   "cell_type": "code",
   "execution_count": 131,
   "metadata": {
    "collapsed": false
   },
   "outputs": [
    {
     "data": {
      "image/png": "[encoded data removed]",
      "text/plain": [
       "<matplotlib.figure.Figure at 0x7f8ea60df320>"
      ]
     },
     "metadata": {
      "needs_background": "light"
     },
     "output_type": "display_data"
    },
    {
     "name": "stdout",
     "output_type": "stream",
     "text": [
      "Минимальная ошибка:  27.9258441399516\n",
      "c:  32.0\n"
     ]
    }
   ],
   "source": [
    "err = []\n",
    "\n",
    "min_err = np.inf\n",
    "for c in np.arange(1,100,0.1):\n",
    "    theta_2 = estimate_2(data_1, area_1, c)\n",
    "    err.append(error_2(data_2, area_2, theta_2))\n",
    "    if error_2(data_2, area_2, theta_2) < min_err:\n",
    "        min_err = error_2(data_2, area_2, theta_2)\n",
    "        min_c = c\n",
    " \n",
    "plt.figure(figsize=(16, 12))\n",
    "plt.plot(np.arange(1,100,0.1), err)\n",
    "plt.grid()\n",
    "plt.show()\n",
    "\n",
    "print(\"Минимальная ошибка: \", min_err)\n",
    "print(\"c: \", min_c)"
   ]
  },
  {
   "cell_type": "markdown",
   "metadata": {},
   "source": [
    "Разобьём выборку в соотношении 7:3 разными способами и найдем ошибки при полученном выше коэффициенте $c$."
   ]
  },
  {
   "cell_type": "code",
   "execution_count": 132,
   "metadata": {
    "collapsed": false,
    "scrolled": false
   },
   "outputs": [
    {
     "name": "stdout",
     "output_type": "stream",
     "text": [
      "80.15689698288567\n",
      "76.14918023488637\n",
      "79.89575031440945\n",
      "101.08283928792196\n",
      "140.93172352793184\n",
      "78.15869707521755\n",
      "105.68453155919126\n",
      "75.79931462926564\n",
      "87.26824979373241\n",
      "82.74609214402713\n",
      "71.96273513485082\n",
      "83.89735355524338\n",
      "106.16509379659281\n",
      "122.47492349475074\n",
      "74.92221704026854\n",
      "79.45753424802461\n",
      "101.45887164718779\n",
      "98.40581871563934\n",
      "125.08811315477118\n",
      "102.68953292387837\n",
      "72.44452909678881\n",
      "123.24180167024477\n",
      "83.30068942794945\n",
      "73.62770450112006\n",
      "122.70436370993619\n",
      "138.67581048584566\n",
      "121.6686326167025\n",
      "120.94579583951042\n",
      "79.56669961563745\n",
      "80.63153893831921\n",
      "73.83596775371446\n",
      "120.90106600154216\n",
      "101.04610542212485\n",
      "71.46030510777706\n",
      "80.66423686439767\n",
      "82.23857426681978\n",
      "108.23890088324222\n",
      "98.02796860945986\n",
      "121.83797437510216\n",
      "81.8189531521682\n"
     ]
    }
   ],
   "source": [
    "for i in range(40):\n",
    "    data, area = get_shuffled_data()\n",
    "    data_1 = data[:N*7//10]\n",
    "    data_2 = data[N*7//10+1:]\n",
    "    area_1 = area[:N*7//10]\n",
    "    area_2 = area[N*7//10+1:]\n",
    "    theta_3 = estimate_2(data_1, area_1, min_c)\n",
    "    err = error_2(data_2, area_2, theta_3)\n",
    "    print(err)"
   ]
  },
  {
   "cell_type": "markdown",
   "metadata": {},
   "source": [
    "# Вывод:"
   ]
  },
  {
   "cell_type": "markdown",
   "metadata": {},
   "source": [
    "Ошибка, полученная при преобразовании $f(x)=ln(x+c)$ близка к ошибке на исходных непреобразованных данных.\n",
    "Видим, что в любом случае среднеквадратичное отклонение велико. К тому же, среднеквадратичное отклонение очень сильно зависит от способа разбиения. Поэтому линейная регрессия работает плохо."
   ]
  }
 ],
 "metadata": {
  "kernelspec": {
   "display_name": "Python 3",
   "language": "python",
   "name": "python3"
  },
  "language_info": {
   "codemirror_mode": {
    "name": "ipython",
    "version": 3
   },
   "file_extension": ".py",
   "mimetype": "text/x-python",
   "name": "python",
   "nbconvert_exporter": "python",
   "pygments_lexer": "ipython3",
   "version": "3.6.3"
  }
 },
 "nbformat": 4,
 "nbformat_minor": 2
}

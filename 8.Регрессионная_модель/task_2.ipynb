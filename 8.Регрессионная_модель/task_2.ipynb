{
 "cells": [
  {
   "cell_type": "markdown",
   "metadata": {},
   "source": [
    "В теоретической задаче мы получили следующие оценки:\n",
    "\n",
    "$\\widehat{\\beta_1} = X_0$ <br><br>\n",
    "$\\widehat{\\beta_2} = \\frac{X_n - X_0}{n}$ <br><br>\n",
    "$\\widehat{\\sigma^2} = \\frac{1}{n-1} \\sum\\limits_{i=1}^n \\left( X_i - X_{i-1} - \\frac{X_n - X_0}{n} \\right)^2$ <br><br>\n",
    "\n",
    "Оценка дисперсии отсчета времени:\n",
    "\n",
    "$\\varepsilon_i \\sim N(0, \\sigma^2),$ <br>$ \\varepsilon_i^t = \\frac{\\varepsilon_i}{\\beta_2},\\space\\space значит,  \\space\\space \\varepsilon_i^t \\sim N(0, \\frac{\\sigma^2}{\\beta_2^2})$\n",
    "\n",
    "$\\hat{\\sigma_t^2} = \\frac{\\hat{\\sigma^2}}{\\hat{\\beta_2^2}}$"
   ]
  },
  {
   "cell_type": "code",
   "execution_count": 16,
   "metadata": {
    "collapsed": false
   },
   "outputs": [],
   "source": [
    "with open('Regression.csv', 'r') as file:\n",
    "    data = list(map(float, file))\n",
    "n = len(data) - 1\n",
    "\n",
    "beta_1 = data[0]\n",
    "beta_2 = (data[n] - data[0]) / n\n",
    "\n",
    "sigma = 0\n",
    "for i in range(1, len(data)):\n",
    "    sigma += (data[i] - data[i - 1] - (data[n] - data[0])/n)**2\n",
    "sigma /= (n-1)\n",
    "\n",
    "sigma_t = sigma / (beta_2**2)"
   ]
  },
  {
   "cell_type": "code",
   "execution_count": 17,
   "metadata": {
    "collapsed": false
   },
   "outputs": [
    {
     "name": "stdout",
     "output_type": "stream",
     "text": [
      "beta_1:   104.9407\n",
      "beta_2:   13.932884384384385\n",
      "sigma:    2.213807599735931\n",
      "sigma_t:  0.011404015720800317\n"
     ]
    }
   ],
   "source": [
    "print(\"beta_1:  \", beta_1)\n",
    "print(\"beta_2:  \", beta_2)\n",
    "print(\"sigma:   \", sigma)\n",
    "print(\"sigma_t: \", sigma_t)"
   ]
  },
  {
   "cell_type": "markdown",
   "metadata": {},
   "source": [
    "# Вывод:"
   ]
  },
  {
   "cell_type": "markdown",
   "metadata": {},
   "source": [
    "Результаты показывают, что линейная модель подходит для данной выборки. Это можно объяснить тем, что движение трамвая близко к равномерному, и скорость $\\beta_2$ можно оценить. Видно, что показания датчика довольно точные (дисперсия мала), а потому линейная модель дает хорошее приближение. "
   ]
  }
 ],
 "metadata": {
  "kernelspec": {
   "display_name": "Python 3",
   "language": "python",
   "name": "python3"
  },
  "language_info": {
   "codemirror_mode": {
    "name": "ipython",
    "version": 3
   },
   "file_extension": ".py",
   "mimetype": "text/x-python",
   "name": "python",
   "nbconvert_exporter": "python",
   "pygments_lexer": "ipython3",
   "version": "3.6.3"
  }
 },
 "nbformat": 4,
 "nbformat_minor": 2
}
